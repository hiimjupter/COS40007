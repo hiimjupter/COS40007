{
  "cells": [
    {
      "cell_type": "markdown",
      "metadata": {
        "id": "view-in-github",
        "colab_type": "text"
      },
      "source": [
        "<a href=\"https://colab.research.google.com/github/hiimjupter/COS40007/blob/main/Refactor_Studio3.ipynb\" target=\"_parent\"><img src=\"https://colab.research.google.com/assets/colab-badge.svg\" alt=\"Open In Colab\"/></a>"
      ]
    },
    {
      "cell_type": "markdown",
      "metadata": {
        "id": "fGGJYecpp24b"
      },
      "source": [
        "## Machine Learning Pipeline for Category Management\n",
        "\n",
        "This notebook performs the following tasks:\n",
        "1. **Data Merging and Preprocessing:** Merges multiple CSV files, shuffles the dataset, and handles missing values.\n",
        "2. **Exploratory Data Analysis (EDA):** Analyzes the distribution of the target variable.\n",
        "3. **Feature Selection and Dimensionality Reduction:** Applies SelectKBest and PCA.\n",
        "4. **Model Training and Evaluation:** Trains an SVM classifier, performs cross-validation, and hyperparameter tuning.\n",
        "5. **Results Compilation:** Compiles and saves the results of different models."
      ]
    },
    {
      "cell_type": "code",
      "execution_count": 2,
      "metadata": {
        "colab": {
          "base_uri": "https://localhost:8080/"
        },
        "id": "Xi-S-iMqBhV9",
        "outputId": "e5f4cfa4-c392-40a3-8ce8-73076933b5c9"
      },
      "outputs": [
        {
          "output_type": "stream",
          "name": "stdout",
          "text": [
            "Drive already mounted at /content/drive; to attempt to forcibly remount, call drive.mount(\"/content/drive\", force_remount=True).\n"
          ]
        }
      ],
      "source": [
        "from google.colab import drive\n",
        "drive.mount('/content/drive')"
      ]
    },
    {
      "cell_type": "markdown",
      "metadata": {
        "id": "Y7fBOTYOqV0p"
      },
      "source": [
        "## 1. Import Neccessary Libraries"
      ]
    },
    {
      "cell_type": "code",
      "execution_count": 3,
      "metadata": {
        "id": "NNOzj09rp0gs"
      },
      "outputs": [],
      "source": [
        "import pandas as pd\n",
        "import matplotlib.pyplot as plt\n",
        "import seaborn as sns\n",
        "from sklearn.model_selection import train_test_split, cross_val_score, GridSearchCV\n",
        "from sklearn.svm import SVC\n",
        "from sklearn.metrics import accuracy_score\n",
        "from sklearn.feature_selection import SelectKBest, f_classif\n",
        "from sklearn.decomposition import PCA\n",
        "from sklearn.preprocessing import StandardScaler\n",
        "import os"
      ]
    },
    {
      "cell_type": "code",
      "execution_count": 4,
      "metadata": {
        "id": "6yr6bO-Uqbnx"
      },
      "outputs": [],
      "source": [
        "%matplotlib inline\n",
        "sns.set(style=\"whitegrid\")"
      ]
    },
    {
      "cell_type": "markdown",
      "metadata": {
        "id": "kinmRU8Cqdly"
      },
      "source": [
        "## 2. Define Helper Functions"
      ]
    },
    {
      "cell_type": "code",
      "execution_count": 5,
      "metadata": {
        "id": "okW9F7nHqf7z"
      },
      "outputs": [],
      "source": [
        "def merge_csv_files(csv_paths, output_path):\n",
        "    \"\"\"\n",
        "    Merges multiple CSV files into a single CSV file.\n",
        "\n",
        "    Parameters:\n",
        "        csv_paths (list): List of file paths to CSV files.\n",
        "        output_path (str): Path to save the merged CSV file.\n",
        "\n",
        "    Returns:\n",
        "        pd.DataFrame: Merged DataFrame.\n",
        "    \"\"\"\n",
        "    try:\n",
        "        # Read each CSV file into a DataFrame\n",
        "        dataframes = [pd.read_csv(file) for file in csv_paths]\n",
        "        # Concatenate all DataFrames vertically\n",
        "        merged_df = pd.concat(dataframes, ignore_index=True)\n",
        "        # Save the merged DataFrame to a new CSV file\n",
        "        merged_df.to_csv(output_path, index=False)\n",
        "        print(f\"Successfully merged CSV files into '{output_path}'\")\n",
        "        return merged_df\n",
        "    except Exception as e:\n",
        "        print(f\"Error merging CSV files: {e}\")\n",
        "        return pd.DataFrame()"
      ]
    },
    {
      "cell_type": "code",
      "execution_count": 6,
      "metadata": {
        "id": "AriImYC5qpXK"
      },
      "outputs": [],
      "source": [
        "def shuffle_dataframe(df, output_path):\n",
        "    \"\"\"\n",
        "    Shuffles a DataFrame and saves it to a CSV file.\n",
        "\n",
        "    Parameters:\n",
        "        df (pd.DataFrame): DataFrame to shuffle.\n",
        "        output_path (str): Path to save the shuffled CSV file.\n",
        "\n",
        "    Returns:\n",
        "        pd.DataFrame: Shuffled DataFrame.\n",
        "    \"\"\"\n",
        "    try:\n",
        "        shuffled_df = df.sample(frac=1, random_state=1).reset_index(drop=True)\n",
        "        shuffled_df.to_csv(output_path, index=False)\n",
        "        print(f\"Successfully shuffled and saved DataFrame to '{output_path}'\")\n",
        "        return shuffled_df\n",
        "    except Exception as e:\n",
        "        print(f\"Error shuffling DataFrame: {e}\")\n",
        "        return pd.DataFrame()"
      ]
    },
    {
      "cell_type": "code",
      "execution_count": 7,
      "metadata": {
        "id": "-mQKTMRwqr6h"
      },
      "outputs": [],
      "source": [
        "def load_data(file_path):\n",
        "    \"\"\"\n",
        "    Loads a CSV file into a DataFrame.\n",
        "\n",
        "    Parameters:\n",
        "        file_path (str): Path to the CSV file.\n",
        "\n",
        "    Returns:\n",
        "        pd.DataFrame: Loaded DataFrame.\n",
        "    \"\"\"\n",
        "    try:\n",
        "        df = pd.read_csv(file_path)\n",
        "        print(f\"Successfully loaded data from '{file_path}'\")\n",
        "        return df\n",
        "    except Exception as e:\n",
        "        print(f\"Error loading data from '{file_path}': {e}\")\n",
        "        return pd.DataFrame()"
      ]
    },
    {
      "cell_type": "code",
      "execution_count": 8,
      "metadata": {
        "id": "yzdMS1VxqvGZ"
      },
      "outputs": [],
      "source": [
        "def display_missing_values(df):\n",
        "    \"\"\"\n",
        "    Displays the count of missing values in each column.\n",
        "\n",
        "    Parameters:\n",
        "        df (pd.DataFrame): DataFrame to check for missing values.\n",
        "    \"\"\"\n",
        "    missing_values = df.isnull().sum()\n",
        "    missing_values = missing_values[missing_values > 0]\n",
        "    if not missing_values.empty:\n",
        "        print(\"Missing Values in Each Column:\")\n",
        "        print(missing_values)\n",
        "    else:\n",
        "        print(\"No missing values found.\")"
      ]
    },
    {
      "cell_type": "code",
      "execution_count": 9,
      "metadata": {
        "id": "1Hg3HGHbqxyA"
      },
      "outputs": [],
      "source": [
        "def plot_class_distribution(df, target_column):\n",
        "    \"\"\"\n",
        "    Plots the distribution of the target variable.\n",
        "\n",
        "    Parameters:\n",
        "        df (pd.DataFrame): DataFrame containing the data.\n",
        "        target_column (str): Name of the target column.\n",
        "    \"\"\"\n",
        "    class_distribution = df[target_column].value_counts()\n",
        "    print(\"Class Distribution:\")\n",
        "    print(class_distribution)\n",
        "\n",
        "    plt.figure(figsize=(8, 6))\n",
        "    sns.countplot(x=target_column, data=df)\n",
        "    plt.title('Class Distribution')\n",
        "    plt.xlabel('Classes')\n",
        "    plt.ylabel('Count')\n",
        "    plt.show()"
      ]
    },
    {
      "cell_type": "code",
      "execution_count": 10,
      "metadata": {
        "id": "OKrTCTwgqz7e"
      },
      "outputs": [],
      "source": [
        "def evaluate_model(model, X_test, y_test, cv_folds=10):\n",
        "    \"\"\"\n",
        "    Evaluates the model using accuracy score and cross-validation.\n",
        "\n",
        "    Parameters:\n",
        "        model: Trained machine learning model.\n",
        "        X_test (pd.DataFrame): Test features.\n",
        "        y_test (pd.Series): Test labels.\n",
        "        cv_folds (int): Number of cross-validation folds.\n",
        "\n",
        "    Returns:\n",
        "        dict: Dictionary containing accuracy scores.\n",
        "    \"\"\"\n",
        "    y_pred = model.predict(X_test)\n",
        "    accuracy = accuracy_score(y_test, y_pred)\n",
        "    cv_scores = cross_val_score(model, X_test, y_test, cv=cv_folds)\n",
        "    return {\n",
        "        'accuracy': accuracy,\n",
        "        'cross_val_mean': cv_scores.mean(),\n",
        "        'cross_val_std': cv_scores.std()\n",
        "    }"
      ]
    },
    {
      "cell_type": "code",
      "execution_count": 11,
      "metadata": {
        "id": "HIgzZNOhq1XY"
      },
      "outputs": [],
      "source": [
        "def perform_grid_search(X_train, y_train, param_grid, cv_folds=5):\n",
        "    \"\"\"\n",
        "    Performs GridSearchCV to find the best hyperparameters.\n",
        "\n",
        "    Parameters:\n",
        "        X_train (pd.DataFrame): Training features.\n",
        "        y_train (pd.Series): Training labels.\n",
        "        param_grid (dict): Parameter grid for GridSearchCV.\n",
        "        cv_folds (int): Number of cross-validation folds.\n",
        "\n",
        "    Returns:\n",
        "        GridSearchCV: Fitted GridSearchCV object.\n",
        "    \"\"\"\n",
        "    grid_search = GridSearchCV(\n",
        "        estimator=SVC(),\n",
        "        param_grid=param_grid,\n",
        "        cv=cv_folds\n",
        "    )\n",
        "    grid_search.fit(X_train, y_train)\n",
        "    print(\"\\nBest Hyperparameters:\", grid_search.best_params_)\n",
        "    return grid_search"
      ]
    },
    {
      "cell_type": "markdown",
      "metadata": {
        "id": "1vVGjmREq3vg"
      },
      "source": [
        "## 3. Data Merging and Preprocessing"
      ]
    },
    {
      "cell_type": "code",
      "execution_count": 12,
      "metadata": {
        "colab": {
          "base_uri": "https://localhost:8080/"
        },
        "id": "aYfM0_Qeq4cy",
        "outputId": "96e818fd-c113-4fc0-bf5d-6d2b1c18b12f"
      },
      "outputs": [
        {
          "output_type": "stream",
          "name": "stdout",
          "text": [
            "Successfully merged CSV files into '/content/drive/MyDrive/COS40007/Studio3/Dataset/merged_data.csv'\n",
            "Successfully shuffled and saved DataFrame to '/content/drive/MyDrive/COS40007/Studio3/Dataset/all_data.csv'\n"
          ]
        }
      ],
      "source": [
        "# Define paths\n",
        "csv_files = [\n",
        "    '/content/drive/MyDrive/COS40007/Studio3/Dataset/w1.csv',\n",
        "    '/content/drive/MyDrive/COS40007/Studio3/Dataset/w2.csv',\n",
        "    '/content/drive/MyDrive/COS40007/Studio3/Dataset/w3.csv',\n",
        "    '/content/drive/MyDrive/COS40007/Studio3/Dataset/w4.csv',\n",
        "]\n",
        "\n",
        "merged_csv_path = '/content/drive/MyDrive/COS40007/Studio3/Dataset/merged_data.csv'\n",
        "all_data_csv_path = '/content/drive/MyDrive/COS40007/Studio3/Dataset/all_data.csv'\n",
        "\n",
        "# Merge CSV files\n",
        "merged_df = merge_csv_files(csv_files, merged_csv_path)\n",
        "\n",
        "# Shuffle the merged DataFrame\n",
        "shuffled_df = shuffle_dataframe(merged_df, all_data_csv_path)"
      ]
    },
    {
      "cell_type": "markdown",
      "metadata": {
        "id": "Pljf_cCPq9L6"
      },
      "source": [
        "## 4. Exploratory Data Analysis"
      ]
    },
    {
      "cell_type": "code",
      "execution_count": 13,
      "metadata": {
        "colab": {
          "base_uri": "https://localhost:8080/",
          "height": 1000
        },
        "id": "xK4VDP1jrBAf",
        "outputId": "e4067e21-cf2e-4e0c-adb6-4f58166f5503"
      },
      "outputs": [
        {
          "output_type": "stream",
          "name": "stdout",
          "text": [
            "Successfully loaded data from '/content/drive/MyDrive/COS40007/Studio3/Dataset/all_data.csv'\n",
            "No missing values found.\n",
            "Class Distribution:\n",
            "class\n",
            "2    9693\n",
            "0    1593\n",
            "1     343\n",
            "Name: count, dtype: int64\n"
          ]
        },
        {
          "output_type": "display_data",
          "data": {
            "text/plain": [
              "<Figure size 800x600 with 1 Axes>"
            ],
            "image/png": "[encoded data removed]"
          },
          "metadata": {}
        },
        {
          "output_type": "display_data",
          "data": {
            "text/plain": [
              "       acc_mean_x_right  acc_mean_y_right  acc_mean_z_right  \\\n",
              "count      11629.000000      11629.000000      11629.000000   \n",
              "mean          -0.211198         -0.042165          0.434423   \n",
              "std            0.571314          0.531156          0.356463   \n",
              "min           -1.389800         -1.134400         -0.934200   \n",
              "25%           -0.660600         -0.554880          0.193610   \n",
              "50%           -0.345500          0.123040          0.490600   \n",
              "75%            0.205780          0.440480          0.733890   \n",
              "max            1.223800          1.125700          1.091400   \n",
              "\n",
              "       acc_mean_xyz_right  acc_mean_xy_right  acc_mean_yz_right  \\\n",
              "count        11629.000000       11629.000000       11629.000000   \n",
              "mean             1.128481           0.889659           0.852127   \n",
              "std              0.135509           0.210367           0.200813   \n",
              "min              0.853040           0.106210           0.061353   \n",
              "25%              1.021100           0.748480           0.729890   \n",
              "50%              1.096200           0.929220           0.898960   \n",
              "75%              1.193600           1.029300           0.986920   \n",
              "max              2.348000           1.894300           1.964100   \n",
              "\n",
              "       acc_mean_zx_right  acc_mean_pitch_right  acc_mean_roll_right  \\\n",
              "count       11629.000000          11629.000000         11629.000000   \n",
              "mean            0.928285             -3.868105            12.005939   \n",
              "std             0.164721             44.447833            43.865877   \n",
              "min             0.233060            -87.790000           -89.563000   \n",
              "25%             0.846750            -40.110000           -25.744000   \n",
              "50%             0.944600            -11.131000            20.289000   \n",
              "75%             1.019100             38.559000            50.328000   \n",
              "max             1.999300             86.630000            89.437000   \n",
              "\n",
              "       acc_std_x_right  ...  gyro_max_yz_left  gyro_max_zx_left  \\\n",
              "count     11629.000000  ...      11629.000000      11629.000000   \n",
              "mean          0.338542  ...        215.259002        128.057547   \n",
              "std           0.235194  ...        161.249505         93.320891   \n",
              "min           0.001612  ...          0.659820          0.421630   \n",
              "25%           0.161720  ...         80.591000         51.398000   \n",
              "50%           0.322830  ...        196.910000        119.100000   \n",
              "75%           0.479180  ...        321.600000        189.430000   \n",
              "max           1.928400  ...        974.170000        597.960000   \n",
              "\n",
              "       gyro_peak_x_left  gyro_peak_y_left  gyro_peak_z_left  \\\n",
              "count      11629.000000      11629.000000      11629.000000   \n",
              "mean           3.885631          4.621464          3.823803   \n",
              "std            1.503805          1.612208          1.583312   \n",
              "min            0.000000          0.000000          0.000000   \n",
              "25%            3.000000          4.000000          3.000000   \n",
              "50%            4.000000          5.000000          4.000000   \n",
              "75%            5.000000          6.000000          5.000000   \n",
              "max           12.000000         12.000000         12.000000   \n",
              "\n",
              "       gyro_peak_xyz_left  gyro_peak_xy_left  gyro_peak_yz_left  \\\n",
              "count        11629.000000       11629.000000       11629.000000   \n",
              "mean             4.815461           5.013243           5.037063   \n",
              "std              1.637253           1.633782           1.667725   \n",
              "min              0.000000           0.000000           0.000000   \n",
              "25%              4.000000           4.000000           4.000000   \n",
              "50%              5.000000           5.000000           5.000000   \n",
              "75%              6.000000           6.000000           6.000000   \n",
              "max             11.000000          11.000000          11.000000   \n",
              "\n",
              "       gyro_peak_zx_left         class  \n",
              "count       11629.000000  11629.000000  \n",
              "mean            4.453607      1.696535  \n",
              "std             1.594145      0.696697  \n",
              "min             0.000000      0.000000  \n",
              "25%             3.000000      2.000000  \n",
              "50%             4.000000      2.000000  \n",
              "75%             6.000000      2.000000  \n",
              "max            11.000000      2.000000  \n",
              "\n",
              "[8 rows x 157 columns]"
            ],
            "text/html": [
              "\n",
              "  <div id=\"df-75671797-f3d6-4a76-a1bc-be119fa770b4\" class=\"colab-df-container\">\n",
              "    <div>\n",
              "<style scoped>\n",
              "    .dataframe tbody tr th:only-of-type {\n",
              "        vertical-align: middle;\n",
              "    }\n",
              "\n",
              "    .dataframe tbody tr th {\n",
              "        vertical-align: top;\n",
              "    }\n",
              "\n",
              "    .dataframe thead th {\n",
              "        text-align: right;\n",
              "    }\n",
              "</style>\n",
              "<table border=\"1\" class=\"dataframe\">\n",
              "  <thead>\n",
              "    <tr style=\"text-align: right;\">\n",
              "      <th></th>\n",
              "      <th>acc_mean_x_right</th>\n",
              "      <th>acc_mean_y_right</th>\n",
              "      <th>acc_mean_z_right</th>\n",
              "      <th>acc_mean_xyz_right</th>\n",
              "      <th>acc_mean_xy_right</th>\n",
              "      <th>acc_mean_yz_right</th>\n",
              "      <th>acc_mean_zx_right</th>\n",
              "      <th>acc_mean_pitch_right</th>\n",
              "      <th>acc_mean_roll_right</th>\n",
              "      <th>acc_std_x_right</th>\n",
              "      <th>...</th>\n",
              "      <th>gyro_max_yz_left</th>\n",
              "      <th>gyro_max_zx_left</th>\n",
              "      <th>gyro_peak_x_left</th>\n",
              "      <th>gyro_peak_y_left</th>\n",
              "      <th>gyro_peak_z_left</th>\n",
              "      <th>gyro_peak_xyz_left</th>\n",
              "      <th>gyro_peak_xy_left</th>\n",
              "      <th>gyro_peak_yz_left</th>\n",
              "      <th>gyro_peak_zx_left</th>\n",
              "      <th>class</th>\n",
              "    </tr>\n",
              "  </thead>\n",
              "  <tbody>\n",
              "    <tr>\n",
              "      <th>count</th>\n",
              "      <td>11629.000000</td>\n",
              "      <td>11629.000000</td>\n",
              "      <td>11629.000000</td>\n",
              "      <td>11629.000000</td>\n",
              "      <td>11629.000000</td>\n",
              "      <td>11629.000000</td>\n",
              "      <td>11629.000000</td>\n",
              "      <td>11629.000000</td>\n",
              "      <td>11629.000000</td>\n",
              "      <td>11629.000000</td>\n",
              "      <td>...</td>\n",
              "      <td>11629.000000</td>\n",
              "      <td>11629.000000</td>\n",
              "      <td>11629.000000</td>\n",
              "      <td>11629.000000</td>\n",
              "      <td>11629.000000</td>\n",
              "      <td>11629.000000</td>\n",
              "      <td>11629.000000</td>\n",
              "      <td>11629.000000</td>\n",
              "      <td>11629.000000</td>\n",
              "      <td>11629.000000</td>\n",
              "    </tr>\n",
              "    <tr>\n",
              "      <th>mean</th>\n",
              "      <td>-0.211198</td>\n",
              "      <td>-0.042165</td>\n",
              "      <td>0.434423</td>\n",
              "      <td>1.128481</td>\n",
              "      <td>0.889659</td>\n",
              "      <td>0.852127</td>\n",
              "      <td>0.928285</td>\n",
              "      <td>-3.868105</td>\n",
              "      <td>12.005939</td>\n",
              "      <td>0.338542</td>\n",
              "      <td>...</td>\n",
              "      <td>215.259002</td>\n",
              "      <td>128.057547</td>\n",
              "      <td>3.885631</td>\n",
              "      <td>4.621464</td>\n",
              "      <td>3.823803</td>\n",
              "      <td>4.815461</td>\n",
              "      <td>5.013243</td>\n",
              "      <td>5.037063</td>\n",
              "      <td>4.453607</td>\n",
              "      <td>1.696535</td>\n",
              "    </tr>\n",
              "    <tr>\n",
              "      <th>std</th>\n",
              "      <td>0.571314</td>\n",
              "      <td>0.531156</td>\n",
              "      <td>0.356463</td>\n",
              "      <td>0.135509</td>\n",
              "      <td>0.210367</td>\n",
              "      <td>0.200813</td>\n",
              "      <td>0.164721</td>\n",
              "      <td>44.447833</td>\n",
              "      <td>43.865877</td>\n",
              "      <td>0.235194</td>\n",
              "      <td>...</td>\n",
              "      <td>161.249505</td>\n",
              "      <td>93.320891</td>\n",
              "      <td>1.503805</td>\n",
              "      <td>1.612208</td>\n",
              "      <td>1.583312</td>\n",
              "      <td>1.637253</td>\n",
              "      <td>1.633782</td>\n",
              "      <td>1.667725</td>\n",
              "      <td>1.594145</td>\n",
              "      <td>0.696697</td>\n",
              "    </tr>\n",
              "    <tr>\n",
              "      <th>min</th>\n",
              "      <td>-1.389800</td>\n",
              "      <td>-1.134400</td>\n",
              "      <td>-0.934200</td>\n",
              "      <td>0.853040</td>\n",
              "      <td>0.106210</td>\n",
              "      <td>0.061353</td>\n",
              "      <td>0.233060</td>\n",
              "      <td>-87.790000</td>\n",
              "      <td>-89.563000</td>\n",
              "      <td>0.001612</td>\n",
              "      <td>...</td>\n",
              "      <td>0.659820</td>\n",
              "      <td>0.421630</td>\n",
              "      <td>0.000000</td>\n",
              "      <td>0.000000</td>\n",
              "      <td>0.000000</td>\n",
              "      <td>0.000000</td>\n",
              "      <td>0.000000</td>\n",
              "      <td>0.000000</td>\n",
              "      <td>0.000000</td>\n",
              "      <td>0.000000</td>\n",
              "    </tr>\n",
              "    <tr>\n",
              "      <th>25%</th>\n",
              "      <td>-0.660600</td>\n",
              "      <td>-0.554880</td>\n",
              "      <td>0.193610</td>\n",
              "      <td>1.021100</td>\n",
              "      <td>0.748480</td>\n",
              "      <td>0.729890</td>\n",
              "      <td>0.846750</td>\n",
              "      <td>-40.110000</td>\n",
              "      <td>-25.744000</td>\n",
              "      <td>0.161720</td>\n",
              "      <td>...</td>\n",
              "      <td>80.591000</td>\n",
              "      <td>51.398000</td>\n",
              "      <td>3.000000</td>\n",
              "      <td>4.000000</td>\n",
              "      <td>3.000000</td>\n",
              "      <td>4.000000</td>\n",
              "      <td>4.000000</td>\n",
              "      <td>4.000000</td>\n",
              "      <td>3.000000</td>\n",
              "      <td>2.000000</td>\n",
              "    </tr>\n",
              "    <tr>\n",
              "      <th>50%</th>\n",
              "      <td>-0.345500</td>\n",
              "      <td>0.123040</td>\n",
              "      <td>0.490600</td>\n",
              "      <td>1.096200</td>\n",
              "      <td>0.929220</td>\n",
              "      <td>0.898960</td>\n",
              "      <td>0.944600</td>\n",
              "      <td>-11.131000</td>\n",
              "      <td>20.289000</td>\n",
              "      <td>0.322830</td>\n",
              "      <td>...</td>\n",
              "      <td>196.910000</td>\n",
              "      <td>119.100000</td>\n",
              "      <td>4.000000</td>\n",
              "      <td>5.000000</td>\n",
              "      <td>4.000000</td>\n",
              "      <td>5.000000</td>\n",
              "      <td>5.000000</td>\n",
              "      <td>5.000000</td>\n",
              "      <td>4.000000</td>\n",
              "      <td>2.000000</td>\n",
              "    </tr>\n",
              "    <tr>\n",
              "      <th>75%</th>\n",
              "      <td>0.205780</td>\n",
              "      <td>0.440480</td>\n",
              "      <td>0.733890</td>\n",
              "      <td>1.193600</td>\n",
              "      <td>1.029300</td>\n",
              "      <td>0.986920</td>\n",
              "      <td>1.019100</td>\n",
              "      <td>38.559000</td>\n",
              "      <td>50.328000</td>\n",
              "      <td>0.479180</td>\n",
              "      <td>...</td>\n",
              "      <td>321.600000</td>\n",
              "      <td>189.430000</td>\n",
              "      <td>5.000000</td>\n",
              "      <td>6.000000</td>\n",
              "      <td>5.000000</td>\n",
              "      <td>6.000000</td>\n",
              "      <td>6.000000</td>\n",
              "      <td>6.000000</td>\n",
              "      <td>6.000000</td>\n",
              "      <td>2.000000</td>\n",
              "    </tr>\n",
              "    <tr>\n",
              "      <th>max</th>\n",
              "      <td>1.223800</td>\n",
              "      <td>1.125700</td>\n",
              "      <td>1.091400</td>\n",
              "      <td>2.348000</td>\n",
              "      <td>1.894300</td>\n",
              "      <td>1.964100</td>\n",
              "      <td>1.999300</td>\n",
              "      <td>86.630000</td>\n",
              "      <td>89.437000</td>\n",
              "      <td>1.928400</td>\n",
              "      <td>...</td>\n",
              "      <td>974.170000</td>\n",
              "      <td>597.960000</td>\n",
              "      <td>12.000000</td>\n",
              "      <td>12.000000</td>\n",
              "      <td>12.000000</td>\n",
              "      <td>11.000000</td>\n",
              "      <td>11.000000</td>\n",
              "      <td>11.000000</td>\n",
              "      <td>11.000000</td>\n",
              "      <td>2.000000</td>\n",
              "    </tr>\n",
              "  </tbody>\n",
              "</table>\n",
              "<p>8 rows × 157 columns</p>\n",
              "</div>\n",
              "    <div class=\"colab-df-buttons\">\n",
              "\n",
              "  <div class=\"colab-df-container\">\n",
              "    <button class=\"colab-df-convert\" onclick=\"convertToInteractive('df-75671797-f3d6-4a76-a1bc-be119fa770b4')\"\n",
              "            title=\"Convert this dataframe to an interactive table.\"\n",
              "            style=\"display:none;\">\n",
              "\n",
              "  <svg xmlns=\"http://www.w3.org/2000/svg\" height=\"24px\" viewBox=\"0 -960 960 960\">\n",
              "    <path d=\"M120-120v-720h720v720H120Zm60-500h600v-160H180v160Zm220 220h160v-160H400v160Zm0 220h160v-160H400v160ZM180-400h160v-160H180v160Zm440 0h160v-160H620v160ZM180-180h160v-160H180v160Zm440 0h160v-160H620v160Z\"/>\n",
              "  </svg>\n",
              "    </button>\n",
              "\n",
              "  <style>\n",
              "    .colab-df-container {\n",
              "      display:flex;\n",
              "      gap: 12px;\n",
              "    }\n",
              "\n",
              "    .colab-df-convert {\n",
              "      background-color: #E8F0FE;\n",
              "      border: none;\n",
              "      border-radius: 50%;\n",
              "      cursor: pointer;\n",
              "      display: none;\n",
              "      fill: #1967D2;\n",
              "      height: 32px;\n",
              "      padding: 0 0 0 0;\n",
              "      width: 32px;\n",
              "    }\n",
              "\n",
              "    .colab-df-convert:hover {\n",
              "      background-color: #E2EBFA;\n",
              "      box-shadow: 0px 1px 2px rgba(60, 64, 67, 0.3), 0px 1px 3px 1px rgba(60, 64, 67, 0.15);\n",
              "      fill: #174EA6;\n",
              "    }\n",
              "\n",
              "    .colab-df-buttons div {\n",
              "      margin-bottom: 4px;\n",
              "    }\n",
              "\n",
              "    [theme=dark] .colab-df-convert {\n",
              "      background-color: #3B4455;\n",
              "      fill: #D2E3FC;\n",
              "    }\n",
              "\n",
              "    [theme=dark] .colab-df-convert:hover {\n",
              "      background-color: #434B5C;\n",
              "      box-shadow: 0px 1px 3px 1px rgba(0, 0, 0, 0.15);\n",
              "      filter: drop-shadow(0px 1px 2px rgba(0, 0, 0, 0.3));\n",
              "      fill: #FFFFFF;\n",
              "    }\n",
              "  </style>\n",
              "\n",
              "    <script>\n",
              "      const buttonEl =\n",
              "        document.querySelector('#df-75671797-f3d6-4a76-a1bc-be119fa770b4 button.colab-df-convert');\n",
              "      buttonEl.style.display =\n",
              "        google.colab.kernel.accessAllowed ? 'block' : 'none';\n",
              "\n",
              "      async function convertToInteractive(key) {\n",
              "        const element = document.querySelector('#df-75671797-f3d6-4a76-a1bc-be119fa770b4');\n",
              "        const dataTable =\n",
              "          await google.colab.kernel.invokeFunction('convertToInteractive',\n",
              "                                                    [key], {});\n",
              "        if (!dataTable) return;\n",
              "\n",
              "        const docLinkHtml = 'Like what you see? Visit the ' +\n",
              "          '<a target=\"_blank\" href=https://colab.research.google.com/notebooks/data_table.ipynb>data table notebook</a>'\n",
              "          + ' to learn more about interactive tables.';\n",
              "        element.innerHTML = '';\n",
              "        dataTable['output_type'] = 'display_data';\n",
              "        await google.colab.output.renderOutput(dataTable, element);\n",
              "        const docLink = document.createElement('div');\n",
              "        docLink.innerHTML = docLinkHtml;\n",
              "        element.appendChild(docLink);\n",
              "      }\n",
              "    </script>\n",
              "  </div>\n",
              "\n",
              "\n",
              "<div id=\"df-346b1d85-f97c-4fd1-971b-5042aead7e5f\">\n",
              "  <button class=\"colab-df-quickchart\" onclick=\"quickchart('df-346b1d85-f97c-4fd1-971b-5042aead7e5f')\"\n",
              "            title=\"Suggest charts\"\n",
              "            style=\"display:none;\">\n",
              "\n",
              "<svg xmlns=\"http://www.w3.org/2000/svg\" height=\"24px\"viewBox=\"0 0 24 24\"\n",
              "     width=\"24px\">\n",
              "    <g>\n",
              "        <path d=\"M19 3H5c-1.1 0-2 .9-2 2v14c0 1.1.9 2 2 2h14c1.1 0 2-.9 2-2V5c0-1.1-.9-2-2-2zM9 17H7v-7h2v7zm4 0h-2V7h2v10zm4 0h-2v-4h2v4z\"/>\n",
              "    </g>\n",
              "</svg>\n",
              "  </button>\n",
              "\n",
              "<style>\n",
              "  .colab-df-quickchart {\n",
              "      --bg-color: #E8F0FE;\n",
              "      --fill-color: #1967D2;\n",
              "      --hover-bg-color: #E2EBFA;\n",
              "      --hover-fill-color: #174EA6;\n",
              "      --disabled-fill-color: #AAA;\n",
              "      --disabled-bg-color: #DDD;\n",
              "  }\n",
              "\n",
              "  [theme=dark] .colab-df-quickchart {\n",
              "      --bg-color: #3B4455;\n",
              "      --fill-color: #D2E3FC;\n",
              "      --hover-bg-color: #434B5C;\n",
              "      --hover-fill-color: #FFFFFF;\n",
              "      --disabled-bg-color: #3B4455;\n",
              "      --disabled-fill-color: #666;\n",
              "  }\n",
              "\n",
              "  .colab-df-quickchart {\n",
              "    background-color: var(--bg-color);\n",
              "    border: none;\n",
              "    border-radius: 50%;\n",
              "    cursor: pointer;\n",
              "    display: none;\n",
              "    fill: var(--fill-color);\n",
              "    height: 32px;\n",
              "    padding: 0;\n",
              "    width: 32px;\n",
              "  }\n",
              "\n",
              "  .colab-df-quickchart:hover {\n",
              "    background-color: var(--hover-bg-color);\n",
              "    box-shadow: 0 1px 2px rgba(60, 64, 67, 0.3), 0 1px 3px 1px rgba(60, 64, 67, 0.15);\n",
              "    fill: var(--button-hover-fill-color);\n",
              "  }\n",
              "\n",
              "  .colab-df-quickchart-complete:disabled,\n",
              "  .colab-df-quickchart-complete:disabled:hover {\n",
              "    background-color: var(--disabled-bg-color);\n",
              "    fill: var(--disabled-fill-color);\n",
              "    box-shadow: none;\n",
              "  }\n",
              "\n",
              "  .colab-df-spinner {\n",
              "    border: 2px solid var(--fill-color);\n",
              "    border-color: transparent;\n",
              "    border-bottom-color: var(--fill-color);\n",
              "    animation:\n",
              "      spin 1s steps(1) infinite;\n",
              "  }\n",
              "\n",
              "  @keyframes spin {\n",
              "    0% {\n",
              "      border-color: transparent;\n",
              "      border-bottom-color: var(--fill-color);\n",
              "      border-left-color: var(--fill-color);\n",
              "    }\n",
              "    20% {\n",
              "      border-color: transparent;\n",
              "      border-left-color: var(--fill-color);\n",
              "      border-top-color: var(--fill-color);\n",
              "    }\n",
              "    30% {\n",
              "      border-color: transparent;\n",
              "      border-left-color: var(--fill-color);\n",
              "      border-top-color: var(--fill-color);\n",
              "      border-right-color: var(--fill-color);\n",
              "    }\n",
              "    40% {\n",
              "      border-color: transparent;\n",
              "      border-right-color: var(--fill-color);\n",
              "      border-top-color: var(--fill-color);\n",
              "    }\n",
              "    60% {\n",
              "      border-color: transparent;\n",
              "      border-right-color: var(--fill-color);\n",
              "    }\n",
              "    80% {\n",
              "      border-color: transparent;\n",
              "      border-right-color: var(--fill-color);\n",
              "      border-bottom-color: var(--fill-color);\n",
              "    }\n",
              "    90% {\n",
              "      border-color: transparent;\n",
              "      border-bottom-color: var(--fill-color);\n",
              "    }\n",
              "  }\n",
              "</style>\n",
              "\n",
              "  <script>\n",
              "    async function quickchart(key) {\n",
              "      const quickchartButtonEl =\n",
              "        document.querySelector('#' + key + ' button');\n",
              "      quickchartButtonEl.disabled = true;  // To prevent multiple clicks.\n",
              "      quickchartButtonEl.classList.add('colab-df-spinner');\n",
              "      try {\n",
              "        const charts = await google.colab.kernel.invokeFunction(\n",
              "            'suggestCharts', [key], {});\n",
              "      } catch (error) {\n",
              "        console.error('Error during call to suggestCharts:', error);\n",
              "      }\n",
              "      quickchartButtonEl.classList.remove('colab-df-spinner');\n",
              "      quickchartButtonEl.classList.add('colab-df-quickchart-complete');\n",
              "    }\n",
              "    (() => {\n",
              "      let quickchartButtonEl =\n",
              "        document.querySelector('#df-346b1d85-f97c-4fd1-971b-5042aead7e5f button');\n",
              "      quickchartButtonEl.style.display =\n",
              "        google.colab.kernel.accessAllowed ? 'block' : 'none';\n",
              "    })();\n",
              "  </script>\n",
              "</div>\n",
              "\n",
              "    </div>\n",
              "  </div>\n"
            ],
            "application/vnd.google.colaboratory.intrinsic+json": {
              "type": "dataframe"
            }
          },
          "metadata": {}
        }
      ],
      "source": [
        "# Load the shuffled dataset\n",
        "data = load_data(all_data_csv_path)\n",
        "\n",
        "# Check for missing values\n",
        "display_missing_values(data)\n",
        "\n",
        "# Identify the target column (assuming the last column is the target)\n",
        "target_column = data.columns[-1]\n",
        "\n",
        "# Plot class distribution\n",
        "plot_class_distribution(data, target_column)\n",
        "\n",
        "# Display basic statistics\n",
        "display(data.describe())"
      ]
    },
    {
      "cell_type": "markdown",
      "metadata": {
        "id": "hmF432airEF1"
      },
      "source": [
        "## 5. Feature Selection and Label Separation"
      ]
    },
    {
      "cell_type": "code",
      "execution_count": 14,
      "metadata": {
        "colab": {
          "base_uri": "https://localhost:8080/"
        },
        "id": "yQtxgKX-rHzo",
        "outputId": "a5e6bd4c-995b-4c97-c532-4d00a9908f65"
      },
      "outputs": [
        {
          "output_type": "stream",
          "name": "stdout",
          "text": [
            "Features shape: (11629, 156)\n",
            "Labels shape: (11629,)\n"
          ]
        }
      ],
      "source": [
        "# Separate features (X) and target labels (y)\n",
        "X = data.iloc[:, :-1]\n",
        "y = data.iloc[:, -1]\n",
        "\n",
        "# Verify the shapes\n",
        "print(f\"Features shape: {X.shape}\")  # Expected: (num_samples, num_features)\n",
        "print(f\"Labels shape: {y.shape}\")    # Expected: (num_samples,)"
      ]
    },
    {
      "cell_type": "markdown",
      "metadata": {
        "id": "x6PGIsk-rJ9H"
      },
      "source": [
        "## 6. Data Splitting"
      ]
    },
    {
      "cell_type": "code",
      "execution_count": 15,
      "metadata": {
        "colab": {
          "base_uri": "https://localhost:8080/"
        },
        "id": "QCiMUmKNrMDw",
        "outputId": "6e8e85b7-afbe-464d-a792-1e08e6a068be"
      },
      "outputs": [
        {
          "output_type": "stream",
          "name": "stdout",
          "text": [
            "Training features shape: (8140, 156)\n",
            "Testing features shape: (3489, 156)\n",
            "Training labels shape: (8140,)\n",
            "Testing labels shape: (3489,)\n"
          ]
        }
      ],
      "source": [
        "# Split the dataset into training and testing sets (70% train, 30% test)\n",
        "X_train, X_test, y_train, y_test = train_test_split(\n",
        "    X, y,\n",
        "    test_size=0.3,\n",
        "    random_state=1,\n",
        "    stratify=y  # Ensures the split maintains class distribution\n",
        ")\n",
        "\n",
        "# Verify the split\n",
        "print(f\"Training features shape: {X_train.shape}\")\n",
        "print(f\"Testing features shape: {X_test.shape}\")\n",
        "print(f\"Training labels shape: {y_train.shape}\")\n",
        "print(f\"Testing labels shape: {y_test.shape}\")"
      ]
    },
    {
      "cell_type": "markdown",
      "metadata": {
        "id": "YlaMA42KrODG"
      },
      "source": [
        "## 7. Feature Scaling"
      ]
    },
    {
      "cell_type": "code",
      "execution_count": 16,
      "metadata": {
        "id": "E_y5YgomrPv8"
      },
      "outputs": [],
      "source": [
        "# Initialize the StandardScaler\n",
        "scaler = StandardScaler()\n",
        "\n",
        "# Fit the scaler on the training data and transform both training and testing data\n",
        "X_train_scaled = scaler.fit_transform(X_train)\n",
        "X_test_scaled = scaler.transform(X_test)\n",
        "\n",
        "# Convert scaled data back to DataFrame for consistency\n",
        "X_train_scaled = pd.DataFrame(X_train_scaled, columns=X.columns)\n",
        "X_test_scaled = pd.DataFrame(X_test_scaled, columns=X.columns)"
      ]
    },
    {
      "cell_type": "markdown",
      "metadata": {
        "id": "Pt_GTAA6rRVz"
      },
      "source": [
        "## 8. Model Training and Evaluation"
      ]
    },
    {
      "cell_type": "code",
      "execution_count": 17,
      "metadata": {
        "colab": {
          "base_uri": "https://localhost:8080/"
        },
        "id": "E4vS5yECrT1b",
        "outputId": "405c22c7-3784-430e-f52e-f810f781ed3f"
      },
      "outputs": [
        {
          "output_type": "stream",
          "name": "stdout",
          "text": [
            "SVM model training completed.\n",
            "Train-Test Split Accuracy: 0.9186\n",
            "10-Fold Cross-Validation Accuracy: 0.9129 ± 0.0072\n"
          ]
        }
      ],
      "source": [
        "# Initialize the SVM classifier with default parameters\n",
        "svm_model = SVC()\n",
        "\n",
        "# Train the model on the scaled training data\n",
        "svm_model.fit(X_train_scaled, y_train)\n",
        "print(\"SVM model training completed.\")\n",
        "\n",
        "# Evaluate the model\n",
        "evaluation_results = evaluate_model(svm_model, X_test_scaled, y_test)\n",
        "print(f\"Train-Test Split Accuracy: {evaluation_results['accuracy']:.4f}\")\n",
        "print(f\"10-Fold Cross-Validation Accuracy: {evaluation_results['cross_val_mean']:.4f} ± {evaluation_results['cross_val_std']:.4f}\")"
      ]
    },
    {
      "cell_type": "markdown",
      "metadata": {
        "id": "CeCzlTsYrWVT"
      },
      "source": [
        "## 9. Hyperparameter Tuning with GridSearchCV"
      ]
    },
    {
      "cell_type": "code",
      "execution_count": 18,
      "metadata": {
        "colab": {
          "base_uri": "https://localhost:8080/"
        },
        "id": "Ved14WMJraYa",
        "outputId": "9e1d0411-2446-41cc-aec5-b74c2fa0c28e"
      },
      "outputs": [
        {
          "output_type": "stream",
          "name": "stdout",
          "text": [
            "\n",
            "Best Hyperparameters: {'C': 100, 'gamma': 0.001, 'kernel': 'rbf'}\n",
            "Optimized Train-Test Split Accuracy: 0.9212\n",
            "Optimized 10-Fold Cross-Validation Accuracy: 0.9111 ± 0.0100\n"
          ]
        }
      ],
      "source": [
        "# Define the parameter grid\n",
        "param_grid = {\n",
        "    'C': [0.1, 1, 10, 100, 1000],\n",
        "    'gamma': [1, 0.1, 0.01, 0.001, 0.0001],\n",
        "    'kernel': ['rbf']\n",
        "}\n",
        "\n",
        "# Perform Grid Search\n",
        "grid_search = perform_grid_search(X_train_scaled, y_train, param_grid, cv_folds=3)\n",
        "\n",
        "# Retrieve the best model\n",
        "best_svm = grid_search.best_estimator_\n",
        "\n",
        "# Evaluate the best model\n",
        "best_evaluation = evaluate_model(best_svm, X_test_scaled, y_test)\n",
        "print(f\"Optimized Train-Test Split Accuracy: {best_evaluation['accuracy']:.4f}\")\n",
        "print(f\"Optimized 10-Fold Cross-Validation Accuracy: {best_evaluation['cross_val_mean']:.4f} ± {best_evaluation['cross_val_std']:.4f}\")\n"
      ]
    },
    {
      "cell_type": "markdown",
      "metadata": {
        "id": "puRRcb3dre0z"
      },
      "source": [
        "## 10. Feature Selection with SelectKBest"
      ]
    },
    {
      "cell_type": "code",
      "execution_count": 19,
      "metadata": {
        "colab": {
          "base_uri": "https://localhost:8080/"
        },
        "id": "TiToXEhcrhjh",
        "outputId": "0f0c6732-d61f-48fa-a08c-0ac711451b65"
      },
      "outputs": [
        {
          "output_type": "stream",
          "name": "stdout",
          "text": [
            "Optimized SVM model training on selected features completed.\n",
            "Feature Selection Train-Test Split Accuracy: 0.9180\n",
            "Feature Selection 10-Fold Cross-Validation Accuracy: 0.9106 ± 0.0124\n"
          ]
        }
      ],
      "source": [
        "# Select the top 100 features using SelectKBest\n",
        "selector = SelectKBest(score_func=f_classif, k=100)\n",
        "X_new = selector.fit_transform(X, y)\n",
        "\n",
        "# Convert X_new back to DataFrame with selected feature names\n",
        "selected_features = X.columns[selector.get_support(indices=True)]\n",
        "X_new = pd.DataFrame(X_new, columns=selected_features)\n",
        "\n",
        "# Split the dataset with selected features\n",
        "X_train_fs, X_test_fs, y_train_fs, y_test_fs = train_test_split(\n",
        "    X_new, y,\n",
        "    test_size=0.3,\n",
        "    random_state=1,\n",
        "    stratify=y\n",
        ")\n",
        "\n",
        "# Scale the selected features\n",
        "X_train_fs_scaled = scaler.fit_transform(X_train_fs)\n",
        "X_test_fs_scaled = scaler.transform(X_test_fs)\n",
        "\n",
        "X_train_fs_scaled = pd.DataFrame(X_train_fs_scaled, columns=selected_features)\n",
        "X_test_fs_scaled = pd.DataFrame(X_test_fs_scaled, columns=selected_features)\n",
        "\n",
        "# Train the optimal model on the selected features\n",
        "best_svm.fit(X_train_fs_scaled, y_train_fs)\n",
        "print(\"Optimized SVM model training on selected features completed.\")\n",
        "\n",
        "# Evaluate the model\n",
        "fs_evaluation = evaluate_model(best_svm, X_test_fs_scaled, y_test_fs)\n",
        "print(f\"Feature Selection Train-Test Split Accuracy: {fs_evaluation['accuracy']:.4f}\")\n",
        "print(f\"Feature Selection 10-Fold Cross-Validation Accuracy: {fs_evaluation['cross_val_mean']:.4f} ± {fs_evaluation['cross_val_std']:.4f}\")"
      ]
    },
    {
      "cell_type": "markdown",
      "metadata": {
        "id": "P9yLG7_Irku7"
      },
      "source": [
        "## 11. Dimensionality Reduction with PCA"
      ]
    },
    {
      "cell_type": "code",
      "execution_count": 20,
      "metadata": {
        "colab": {
          "base_uri": "https://localhost:8080/"
        },
        "id": "0w7FDoMHrnjI",
        "outputId": "fee11c60-765e-4688-8c89-a87cb32b8de6"
      },
      "outputs": [
        {
          "output_type": "stream",
          "name": "stdout",
          "text": [
            "Optimized SVM model training on PCA features completed.\n",
            "PCA Train-Test Split Accuracy: 0.8925\n",
            "PCA 10-Fold Cross-Validation Accuracy: 0.8902 ± 0.0094\n"
          ]
        }
      ],
      "source": [
        "# Initialize PCA with 10 components\n",
        "pca = PCA(n_components=10, random_state=1)\n",
        "\n",
        "# Fit PCA on the entire dataset and transform\n",
        "X_pca = pca.fit_transform(X)\n",
        "\n",
        "# Convert X_pca back to DataFrame\n",
        "pca_columns = [f'PC{i+1}' for i in range(10)]\n",
        "X_pca = pd.DataFrame(X_pca, columns=pca_columns)\n",
        "\n",
        "# Split the dataset with PCA features\n",
        "X_train_pca, X_test_pca, y_train_pca, y_test_pca = train_test_split(\n",
        "    X_pca, y,\n",
        "    test_size=0.3,\n",
        "    random_state=1,\n",
        "    stratify=y\n",
        ")\n",
        "\n",
        "# Scale the PCA features\n",
        "X_train_pca_scaled = scaler.fit_transform(X_train_pca)\n",
        "X_test_pca_scaled = scaler.transform(X_test_pca)\n",
        "\n",
        "X_train_pca_scaled = pd.DataFrame(X_train_pca_scaled, columns=pca_columns)\n",
        "X_test_pca_scaled = pd.DataFrame(X_test_pca_scaled, columns=pca_columns)\n",
        "\n",
        "# Train the optimal model on the PCA features\n",
        "best_svm.fit(X_train_pca_scaled, y_train_pca)\n",
        "print(\"Optimized SVM model training on PCA features completed.\")\n",
        "\n",
        "# Evaluate the model\n",
        "pca_evaluation = evaluate_model(best_svm, X_test_pca_scaled, y_test_pca)\n",
        "print(f\"PCA Train-Test Split Accuracy: {pca_evaluation['accuracy']:.4f}\")\n",
        "print(f\"PCA 10-Fold Cross-Validation Accuracy: {pca_evaluation['cross_val_mean']:.4f} ± {pca_evaluation['cross_val_std']:.4f}\")"
      ]
    },
    {
      "cell_type": "markdown",
      "metadata": {
        "id": "JS7zp6l2rqhf"
      },
      "source": [
        "## 12. Compile and Save Results"
      ]
    },
    {
      "cell_type": "code",
      "execution_count": 21,
      "metadata": {
        "colab": {
          "base_uri": "https://localhost:8080/"
        },
        "id": "ijLryS90rsly",
        "outputId": "fc045e81-fd0c-42ab-d271-d8910c86d0ec"
      },
      "outputs": [
        {
          "output_type": "stream",
          "name": "stdout",
          "text": [
            "The results have been successfully saved into '/content/drive/MyDrive/COS40007/Studio3/Result/results.csv'\n"
          ]
        }
      ],
      "source": [
        "# Create a DataFrame to store the results\n",
        "results = pd.DataFrame({\n",
        "    'Model': [\n",
        "        'Original Features',\n",
        "        'With Hyperparameter Tuning',\n",
        "        'Feature Selection + Hyperparameter Tuning',\n",
        "        'PCA + Hyperparameter Tuning'\n",
        "    ],\n",
        "    'Train-Test Split Accuracy': [\n",
        "        evaluation_results['accuracy'],\n",
        "        best_evaluation['accuracy'],\n",
        "        fs_evaluation['accuracy'],\n",
        "        pca_evaluation['accuracy']\n",
        "    ],\n",
        "    'Cross-Validation Accuracy': [\n",
        "        f\"{evaluation_results['cross_val_mean']:.4f} ± {evaluation_results['cross_val_std']:.4f}\",\n",
        "        f\"{best_evaluation['cross_val_mean']:.4f} ± {best_evaluation['cross_val_std']:.4f}\",\n",
        "        f\"{fs_evaluation['cross_val_mean']:.4f} ± {fs_evaluation['cross_val_std']:.4f}\",\n",
        "        f\"{pca_evaluation['cross_val_mean']:.4f} ± {pca_evaluation['cross_val_std']:.4f}\"\n",
        "    ]\n",
        "})\n",
        "\n",
        "# Define the results directory\n",
        "results_dir = '/content/drive/MyDrive/COS40007/Studio3/Result'\n",
        "os.makedirs(results_dir, exist_ok=True)\n",
        "\n",
        "# Save the results to a CSV file\n",
        "results_csv_path = os.path.join(results_dir, 'results.csv')\n",
        "results.to_csv(results_csv_path, index=False)\n",
        "print(f\"The results have been successfully saved into '{results_csv_path}'\")"
      ]
    },
    {
      "cell_type": "markdown",
      "metadata": {
        "id": "MZLfaqkTryl3"
      },
      "source": [
        "## 13. Summary"
      ]
    },
    {
      "cell_type": "code",
      "execution_count": 22,
      "metadata": {
        "colab": {
          "base_uri": "https://localhost:8080/",
          "height": 192
        },
        "id": "PQ0i7Mwrr0E7",
        "outputId": "0f7fa864-8291-48fb-d859-fb22ab59252d"
      },
      "outputs": [
        {
          "output_type": "stream",
          "name": "stdout",
          "text": [
            "### Summary of Model Performance\n"
          ]
        },
        {
          "output_type": "display_data",
          "data": {
            "text/plain": [
              "                                       Model  Train-Test Split Accuracy  \\\n",
              "0                          Original Features                   0.918601   \n",
              "1                 With Hyperparameter Tuning                   0.921181   \n",
              "2  Feature Selection + Hyperparameter Tuning                   0.918028   \n",
              "3                PCA + Hyperparameter Tuning                   0.892519   \n",
              "\n",
              "  Cross-Validation Accuracy  \n",
              "0           0.9129 ± 0.0072  \n",
              "1           0.9111 ± 0.0100  \n",
              "2           0.9106 ± 0.0124  \n",
              "3           0.8902 ± 0.0094  "
            ],
            "text/html": [
              "\n",
              "  <div id=\"df-4ebfeca9-0da6-4616-ba43-5b11ab64cb91\" class=\"colab-df-container\">\n",
              "    <div>\n",
              "<style scoped>\n",
              "    .dataframe tbody tr th:only-of-type {\n",
              "        vertical-align: middle;\n",
              "    }\n",
              "\n",
              "    .dataframe tbody tr th {\n",
              "        vertical-align: top;\n",
              "    }\n",
              "\n",
              "    .dataframe thead th {\n",
              "        text-align: right;\n",
              "    }\n",
              "</style>\n",
              "<table border=\"1\" class=\"dataframe\">\n",
              "  <thead>\n",
              "    <tr style=\"text-align: right;\">\n",
              "      <th></th>\n",
              "      <th>Model</th>\n",
              "      <th>Train-Test Split Accuracy</th>\n",
              "      <th>Cross-Validation Accuracy</th>\n",
              "    </tr>\n",
              "  </thead>\n",
              "  <tbody>\n",
              "    <tr>\n",
              "      <th>0</th>\n",
              "      <td>Original Features</td>\n",
              "      <td>0.918601</td>\n",
              "      <td>0.9129 ± 0.0072</td>\n",
              "    </tr>\n",
              "    <tr>\n",
              "      <th>1</th>\n",
              "      <td>With Hyperparameter Tuning</td>\n",
              "      <td>0.921181</td>\n",
              "      <td>0.9111 ± 0.0100</td>\n",
              "    </tr>\n",
              "    <tr>\n",
              "      <th>2</th>\n",
              "      <td>Feature Selection + Hyperparameter Tuning</td>\n",
              "      <td>0.918028</td>\n",
              "      <td>0.9106 ± 0.0124</td>\n",
              "    </tr>\n",
              "    <tr>\n",
              "      <th>3</th>\n",
              "      <td>PCA + Hyperparameter Tuning</td>\n",
              "      <td>0.892519</td>\n",
              "      <td>0.8902 ± 0.0094</td>\n",
              "    </tr>\n",
              "  </tbody>\n",
              "</table>\n",
              "</div>\n",
              "    <div class=\"colab-df-buttons\">\n",
              "\n",
              "  <div class=\"colab-df-container\">\n",
              "    <button class=\"colab-df-convert\" onclick=\"convertToInteractive('df-4ebfeca9-0da6-4616-ba43-5b11ab64cb91')\"\n",
              "            title=\"Convert this dataframe to an interactive table.\"\n",
              "            style=\"display:none;\">\n",
              "\n",
              "  <svg xmlns=\"http://www.w3.org/2000/svg\" height=\"24px\" viewBox=\"0 -960 960 960\">\n",
              "    <path d=\"M120-120v-720h720v720H120Zm60-500h600v-160H180v160Zm220 220h160v-160H400v160Zm0 220h160v-160H400v160ZM180-400h160v-160H180v160Zm440 0h160v-160H620v160ZM180-180h160v-160H180v160Zm440 0h160v-160H620v160Z\"/>\n",
              "  </svg>\n",
              "    </button>\n",
              "\n",
              "  <style>\n",
              "    .colab-df-container {\n",
              "      display:flex;\n",
              "      gap: 12px;\n",
              "    }\n",
              "\n",
              "    .colab-df-convert {\n",
              "      background-color: #E8F0FE;\n",
              "      border: none;\n",
              "      border-radius: 50%;\n",
              "      cursor: pointer;\n",
              "      display: none;\n",
              "      fill: #1967D2;\n",
              "      height: 32px;\n",
              "      padding: 0 0 0 0;\n",
              "      width: 32px;\n",
              "    }\n",
              "\n",
              "    .colab-df-convert:hover {\n",
              "      background-color: #E2EBFA;\n",
              "      box-shadow: 0px 1px 2px rgba(60, 64, 67, 0.3), 0px 1px 3px 1px rgba(60, 64, 67, 0.15);\n",
              "      fill: #174EA6;\n",
              "    }\n",
              "\n",
              "    .colab-df-buttons div {\n",
              "      margin-bottom: 4px;\n",
              "    }\n",
              "\n",
              "    [theme=dark] .colab-df-convert {\n",
              "      background-color: #3B4455;\n",
              "      fill: #D2E3FC;\n",
              "    }\n",
              "\n",
              "    [theme=dark] .colab-df-convert:hover {\n",
              "      background-color: #434B5C;\n",
              "      box-shadow: 0px 1px 3px 1px rgba(0, 0, 0, 0.15);\n",
              "      filter: drop-shadow(0px 1px 2px rgba(0, 0, 0, 0.3));\n",
              "      fill: #FFFFFF;\n",
              "    }\n",
              "  </style>\n",
              "\n",
              "    <script>\n",
              "      const buttonEl =\n",
              "        document.querySelector('#df-4ebfeca9-0da6-4616-ba43-5b11ab64cb91 button.colab-df-convert');\n",
              "      buttonEl.style.display =\n",
              "        google.colab.kernel.accessAllowed ? 'block' : 'none';\n",
              "\n",
              "      async function convertToInteractive(key) {\n",
              "        const element = document.querySelector('#df-4ebfeca9-0da6-4616-ba43-5b11ab64cb91');\n",
              "        const dataTable =\n",
              "          await google.colab.kernel.invokeFunction('convertToInteractive',\n",
              "                                                    [key], {});\n",
              "        if (!dataTable) return;\n",
              "\n",
              "        const docLinkHtml = 'Like what you see? Visit the ' +\n",
              "          '<a target=\"_blank\" href=https://colab.research.google.com/notebooks/data_table.ipynb>data table notebook</a>'\n",
              "          + ' to learn more about interactive tables.';\n",
              "        element.innerHTML = '';\n",
              "        dataTable['output_type'] = 'display_data';\n",
              "        await google.colab.output.renderOutput(dataTable, element);\n",
              "        const docLink = document.createElement('div');\n",
              "        docLink.innerHTML = docLinkHtml;\n",
              "        element.appendChild(docLink);\n",
              "      }\n",
              "    </script>\n",
              "  </div>\n",
              "\n",
              "\n",
              "<div id=\"df-435e0f24-8afa-47af-bc55-d6524263613a\">\n",
              "  <button class=\"colab-df-quickchart\" onclick=\"quickchart('df-435e0f24-8afa-47af-bc55-d6524263613a')\"\n",
              "            title=\"Suggest charts\"\n",
              "            style=\"display:none;\">\n",
              "\n",
              "<svg xmlns=\"http://www.w3.org/2000/svg\" height=\"24px\"viewBox=\"0 0 24 24\"\n",
              "     width=\"24px\">\n",
              "    <g>\n",
              "        <path d=\"M19 3H5c-1.1 0-2 .9-2 2v14c0 1.1.9 2 2 2h14c1.1 0 2-.9 2-2V5c0-1.1-.9-2-2-2zM9 17H7v-7h2v7zm4 0h-2V7h2v10zm4 0h-2v-4h2v4z\"/>\n",
              "    </g>\n",
              "</svg>\n",
              "  </button>\n",
              "\n",
              "<style>\n",
              "  .colab-df-quickchart {\n",
              "      --bg-color: #E8F0FE;\n",
              "      --fill-color: #1967D2;\n",
              "      --hover-bg-color: #E2EBFA;\n",
              "      --hover-fill-color: #174EA6;\n",
              "      --disabled-fill-color: #AAA;\n",
              "      --disabled-bg-color: #DDD;\n",
              "  }\n",
              "\n",
              "  [theme=dark] .colab-df-quickchart {\n",
              "      --bg-color: #3B4455;\n",
              "      --fill-color: #D2E3FC;\n",
              "      --hover-bg-color: #434B5C;\n",
              "      --hover-fill-color: #FFFFFF;\n",
              "      --disabled-bg-color: #3B4455;\n",
              "      --disabled-fill-color: #666;\n",
              "  }\n",
              "\n",
              "  .colab-df-quickchart {\n",
              "    background-color: var(--bg-color);\n",
              "    border: none;\n",
              "    border-radius: 50%;\n",
              "    cursor: pointer;\n",
              "    display: none;\n",
              "    fill: var(--fill-color);\n",
              "    height: 32px;\n",
              "    padding: 0;\n",
              "    width: 32px;\n",
              "  }\n",
              "\n",
              "  .colab-df-quickchart:hover {\n",
              "    background-color: var(--hover-bg-color);\n",
              "    box-shadow: 0 1px 2px rgba(60, 64, 67, 0.3), 0 1px 3px 1px rgba(60, 64, 67, 0.15);\n",
              "    fill: var(--button-hover-fill-color);\n",
              "  }\n",
              "\n",
              "  .colab-df-quickchart-complete:disabled,\n",
              "  .colab-df-quickchart-complete:disabled:hover {\n",
              "    background-color: var(--disabled-bg-color);\n",
              "    fill: var(--disabled-fill-color);\n",
              "    box-shadow: none;\n",
              "  }\n",
              "\n",
              "  .colab-df-spinner {\n",
              "    border: 2px solid var(--fill-color);\n",
              "    border-color: transparent;\n",
              "    border-bottom-color: var(--fill-color);\n",
              "    animation:\n",
              "      spin 1s steps(1) infinite;\n",
              "  }\n",
              "\n",
              "  @keyframes spin {\n",
              "    0% {\n",
              "      border-color: transparent;\n",
              "      border-bottom-color: var(--fill-color);\n",
              "      border-left-color: var(--fill-color);\n",
              "    }\n",
              "    20% {\n",
              "      border-color: transparent;\n",
              "      border-left-color: var(--fill-color);\n",
              "      border-top-color: var(--fill-color);\n",
              "    }\n",
              "    30% {\n",
              "      border-color: transparent;\n",
              "      border-left-color: var(--fill-color);\n",
              "      border-top-color: var(--fill-color);\n",
              "      border-right-color: var(--fill-color);\n",
              "    }\n",
              "    40% {\n",
              "      border-color: transparent;\n",
              "      border-right-color: var(--fill-color);\n",
              "      border-top-color: var(--fill-color);\n",
              "    }\n",
              "    60% {\n",
              "      border-color: transparent;\n",
              "      border-right-color: var(--fill-color);\n",
              "    }\n",
              "    80% {\n",
              "      border-color: transparent;\n",
              "      border-right-color: var(--fill-color);\n",
              "      border-bottom-color: var(--fill-color);\n",
              "    }\n",
              "    90% {\n",
              "      border-color: transparent;\n",
              "      border-bottom-color: var(--fill-color);\n",
              "    }\n",
              "  }\n",
              "</style>\n",
              "\n",
              "  <script>\n",
              "    async function quickchart(key) {\n",
              "      const quickchartButtonEl =\n",
              "        document.querySelector('#' + key + ' button');\n",
              "      quickchartButtonEl.disabled = true;  // To prevent multiple clicks.\n",
              "      quickchartButtonEl.classList.add('colab-df-spinner');\n",
              "      try {\n",
              "        const charts = await google.colab.kernel.invokeFunction(\n",
              "            'suggestCharts', [key], {});\n",
              "      } catch (error) {\n",
              "        console.error('Error during call to suggestCharts:', error);\n",
              "      }\n",
              "      quickchartButtonEl.classList.remove('colab-df-spinner');\n",
              "      quickchartButtonEl.classList.add('colab-df-quickchart-complete');\n",
              "    }\n",
              "    (() => {\n",
              "      let quickchartButtonEl =\n",
              "        document.querySelector('#df-435e0f24-8afa-47af-bc55-d6524263613a button');\n",
              "      quickchartButtonEl.style.display =\n",
              "        google.colab.kernel.accessAllowed ? 'block' : 'none';\n",
              "    })();\n",
              "  </script>\n",
              "</div>\n",
              "\n",
              "  <div id=\"id_a805e188-398a-4024-99f2-d48cd1903f90\">\n",
              "    <style>\n",
              "      .colab-df-generate {\n",
              "        background-color: #E8F0FE;\n",
              "        border: none;\n",
              "        border-radius: 50%;\n",
              "        cursor: pointer;\n",
              "        display: none;\n",
              "        fill: #1967D2;\n",
              "        height: 32px;\n",
              "        padding: 0 0 0 0;\n",
              "        width: 32px;\n",
              "      }\n",
              "\n",
              "      .colab-df-generate:hover {\n",
              "        background-color: #E2EBFA;\n",
              "        box-shadow: 0px 1px 2px rgba(60, 64, 67, 0.3), 0px 1px 3px 1px rgba(60, 64, 67, 0.15);\n",
              "        fill: #174EA6;\n",
              "      }\n",
              "\n",
              "      [theme=dark] .colab-df-generate {\n",
              "        background-color: #3B4455;\n",
              "        fill: #D2E3FC;\n",
              "      }\n",
              "\n",
              "      [theme=dark] .colab-df-generate:hover {\n",
              "        background-color: #434B5C;\n",
              "        box-shadow: 0px 1px 3px 1px rgba(0, 0, 0, 0.15);\n",
              "        filter: drop-shadow(0px 1px 2px rgba(0, 0, 0, 0.3));\n",
              "        fill: #FFFFFF;\n",
              "      }\n",
              "    </style>\n",
              "    <button class=\"colab-df-generate\" onclick=\"generateWithVariable('results')\"\n",
              "            title=\"Generate code using this dataframe.\"\n",
              "            style=\"display:none;\">\n",
              "\n",
              "  <svg xmlns=\"http://www.w3.org/2000/svg\" height=\"24px\"viewBox=\"0 0 24 24\"\n",
              "       width=\"24px\">\n",
              "    <path d=\"M7,19H8.4L18.45,9,17,7.55,7,17.6ZM5,21V16.75L18.45,3.32a2,2,0,0,1,2.83,0l1.4,1.43a1.91,1.91,0,0,1,.58,1.4,1.91,1.91,0,0,1-.58,1.4L9.25,21ZM18.45,9,17,7.55Zm-12,3A5.31,5.31,0,0,0,4.9,8.1,5.31,5.31,0,0,0,1,6.5,5.31,5.31,0,0,0,4.9,4.9,5.31,5.31,0,0,0,6.5,1,5.31,5.31,0,0,0,8.1,4.9,5.31,5.31,0,0,0,12,6.5,5.46,5.46,0,0,0,6.5,12Z\"/>\n",
              "  </svg>\n",
              "    </button>\n",
              "    <script>\n",
              "      (() => {\n",
              "      const buttonEl =\n",
              "        document.querySelector('#id_a805e188-398a-4024-99f2-d48cd1903f90 button.colab-df-generate');\n",
              "      buttonEl.style.display =\n",
              "        google.colab.kernel.accessAllowed ? 'block' : 'none';\n",
              "\n",
              "      buttonEl.onclick = () => {\n",
              "        google.colab.notebook.generateWithVariable('results');\n",
              "      }\n",
              "      })();\n",
              "    </script>\n",
              "  </div>\n",
              "\n",
              "    </div>\n",
              "  </div>\n"
            ],
            "application/vnd.google.colaboratory.intrinsic+json": {
              "type": "dataframe",
              "variable_name": "results",
              "summary": "{\n  \"name\": \"results\",\n  \"rows\": 4,\n  \"fields\": [\n    {\n      \"column\": \"Model\",\n      \"properties\": {\n        \"dtype\": \"string\",\n        \"num_unique_values\": 4,\n        \"samples\": [\n          \"With Hyperparameter Tuning\",\n          \"PCA + Hyperparameter Tuning\",\n          \"Original Features\"\n        ],\n        \"semantic_type\": \"\",\n        \"description\": \"\"\n      }\n    },\n    {\n      \"column\": \"Train-Test Split Accuracy\",\n      \"properties\": {\n        \"dtype\": \"number\",\n        \"std\": 0.013445475422893472,\n        \"min\": 0.8925193465176269,\n        \"max\": 0.9211808541129264,\n        \"num_unique_values\": 4,\n        \"samples\": [\n          0.9211808541129264,\n          0.8925193465176269,\n          0.9186013184293493\n        ],\n        \"semantic_type\": \"\",\n        \"description\": \"\"\n      }\n    },\n    {\n      \"column\": \"Cross-Validation Accuracy\",\n      \"properties\": {\n        \"dtype\": \"string\",\n        \"num_unique_values\": 4,\n        \"samples\": [\n          \"0.9111 \\u00b1 0.0100\",\n          \"0.8902 \\u00b1 0.0094\",\n          \"0.9129 \\u00b1 0.0072\"\n        ],\n        \"semantic_type\": \"\",\n        \"description\": \"\"\n      }\n    }\n  ]\n}"
            }
          },
          "metadata": {}
        }
      ],
      "source": [
        "print(\"### Summary of Model Performance\")\n",
        "display(results)"
      ]
    },
    {
      "cell_type": "markdown",
      "metadata": {
        "id": "Es9lB3lGr2kl"
      },
      "source": [
        "## 14. Conclusion"
      ]
    },
    {
      "cell_type": "code",
      "execution_count": 23,
      "metadata": {
        "colab": {
          "base_uri": "https://localhost:8080/"
        },
        "id": "1bpe7JFer43t",
        "outputId": "98e2f9d4-259b-417a-cc9d-5cd62b7490ff"
      },
      "outputs": [
        {
          "output_type": "stream",
          "name": "stdout",
          "text": [
            "\n",
            "The machine learning pipeline successfully merged multiple datasets, performed necessary preprocessing,\n",
            "conducted exploratory data analysis, applied feature selection and dimensionality reduction techniques,\n",
            "trained and evaluated an SVM classifier, and saved the results for comparison.\n",
            "\n",
            "Key Takeaways:\n",
            "- **Data Merging:** Consolidated multiple CSV files into a single dataset.\n",
            "- **EDA:** Verified data integrity and analyzed class distribution.\n",
            "- **Feature Engineering:** Utilized SelectKBest and PCA to enhance model performance.\n",
            "- **Model Optimization:** Improved model accuracy through hyperparameter tuning.\n",
            "- **Results Compilation:** Documented and saved the performance metrics for all models.\n",
            "\n",
            "Further Improvements:\n",
            "- **Model Selection:** Experiment with other algorithms like Random Forest, Gradient Boosting, etc.\n",
            "- **Feature Engineering:** Explore more feature engineering techniques based on domain knowledge.\n",
            "- **Handling Imbalanced Data:** If classes are imbalanced, consider techniques like SMOTE or class weighting.\n",
            "- **Pipeline Integration:** Use scikit-learn pipelines to streamline the workflow and prevent data leakage.\n",
            "\n"
          ]
        }
      ],
      "source": [
        "print(\"\"\"\n",
        "The machine learning pipeline successfully merged multiple datasets, performed necessary preprocessing,\n",
        "conducted exploratory data analysis, applied feature selection and dimensionality reduction techniques,\n",
        "trained and evaluated an SVM classifier, and saved the results for comparison.\n",
        "\n",
        "Key Takeaways:\n",
        "- **Data Merging:** Consolidated multiple CSV files into a single dataset.\n",
        "- **EDA:** Verified data integrity and analyzed class distribution.\n",
        "- **Feature Engineering:** Utilized SelectKBest and PCA to enhance model performance.\n",
        "- **Model Optimization:** Improved model accuracy through hyperparameter tuning.\n",
        "- **Results Compilation:** Documented and saved the performance metrics for all models.\n",
        "\n",
        "Further Improvements:\n",
        "- **Model Selection:** Experiment with other algorithms like Random Forest, Gradient Boosting, etc.\n",
        "- **Feature Engineering:** Explore more feature engineering techniques based on domain knowledge.\n",
        "- **Handling Imbalanced Data:** If classes are imbalanced, consider techniques like SMOTE or class weighting.\n",
        "- **Pipeline Integration:** Use scikit-learn pipelines to streamline the workflow and prevent data leakage.\n",
        "\"\"\")"
      ]
    },
    {
      "cell_type": "markdown",
      "metadata": {
        "id": "LFque2UOgNM8"
      },
      "source": [
        "## 15. Compare with other ML Classifiers"
      ]
    },
    {
      "cell_type": "code",
      "execution_count": 24,
      "metadata": {
        "colab": {
          "base_uri": "https://localhost:8080/"
        },
        "id": "bPqD02YtgQXA",
        "outputId": "2d3111b0-0483-4794-8b06-4f4c57cc147c"
      },
      "outputs": [
        {
          "output_type": "stream",
          "name": "stdout",
          "text": [
            "               Classifier  Train-Test Accuracy  Cross-Validation Accuracy\n",
            "0           SGDClassifier             0.882201                   0.885012\n",
            "1  RandomForestClassifier             0.928633                   0.918428\n",
            "2           MLPClassifier             0.893666                   0.894963\n"
          ]
        }
      ],
      "source": [
        "from sklearn.linear_model import SGDClassifier\n",
        "from sklearn.ensemble import RandomForestClassifier\n",
        "from sklearn.neural_network import MLPClassifier\n",
        "\n",
        "# Load your data\n",
        "data = pd.read_csv('/content/drive/MyDrive/COS40007/Studio3/Dataset/all_data.csv')\n",
        "\n",
        "# Assuming the data has a label column called 'target', split features and labels\n",
        "X = data.iloc[:, :-1]\n",
        "y = data.iloc[:, -1]\n",
        "\n",
        "# Split data into train and test sets\n",
        "X_train, X_test, y_train, y_test = train_test_split(X, y, test_size=0.3, random_state=1, stratify=y)\n",
        "\n",
        "# Define classifiers\n",
        "classifiers = {\n",
        "    'SGDClassifier': SGDClassifier(random_state=1),\n",
        "    'RandomForestClassifier': RandomForestClassifier(random_state=1),\n",
        "    'MLPClassifier': MLPClassifier(random_state=1, max_iter=1000)\n",
        "}\n",
        "\n",
        "# Initialize an empty list to collect results\n",
        "results_list = []\n",
        "\n",
        "# Train classifiers, calculate accuracy, and store results\n",
        "for name, clf in classifiers.items():\n",
        "    # Train-test split\n",
        "    clf.fit(X_train_scaled, y_train)\n",
        "    y_pred = clf.predict(X_test_scaled)\n",
        "    accuracy = accuracy_score(y_test, y_pred)\n",
        "\n",
        "    # Cross-validation\n",
        "    cv_scores = cross_val_score(clf, X_train_scaled, y_train, cv=10, scoring='accuracy')\n",
        "    cv_accuracy = cv_scores.mean()\n",
        "\n",
        "    # Store results in the list\n",
        "    results_list.append({\n",
        "        'Classifier': name,\n",
        "        'Train-Test Accuracy': accuracy,\n",
        "        'Cross-Validation Accuracy': cv_accuracy\n",
        "    })\n",
        "\n",
        "# Convert the list of results into a DataFrame\n",
        "results = pd.DataFrame(results_list)\n",
        "\n",
        "# Save results to a CSV file\n",
        "results.to_csv('/content/drive/MyDrive/COS40007/Studio3/Result/results_mls.csv', index=False)\n",
        "\n",
        "# Display the results\n",
        "print(results)"
      ]
    }
  ],
  "metadata": {
    "colab": {
      "provenance": [],
      "include_colab_link": true
    },
    "kernelspec": {
      "display_name": "Python 3",
      "name": "python3"
    },
    "language_info": {
      "name": "python"
    }
  },
  "nbformat": 4,
  "nbformat_minor": 0
}